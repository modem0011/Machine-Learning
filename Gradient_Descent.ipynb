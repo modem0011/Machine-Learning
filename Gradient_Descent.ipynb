{
  "nbformat": 4,
  "nbformat_minor": 0,
  "metadata": {
    "colab": {
      "name": "Gradient Descent",
      "provenance": [],
      "collapsed_sections": [],
      "authorship_tag": "ABX9TyObEgQnk7SLxJ+ei5Hjj+pr",
      "include_colab_link": true
    },
    "kernelspec": {
      "name": "python3",
      "display_name": "Python 3"
    }
  },
  "cells": [
    {
      "cell_type": "markdown",
      "metadata": {
        "id": "view-in-github",
        "colab_type": "text"
      },
      "source": [
        "<a href=\"https://colab.research.google.com/github/modem0011/Machine-Learning/blob/master/Gradient_Descent.ipynb\" target=\"_parent\"><img src=\"https://colab.research.google.com/assets/colab-badge.svg\" alt=\"Open In Colab\"/></a>"
      ]
    },
    {
      "cell_type": "code",
      "metadata": {
        "id": "Qu15b2EhRXyV",
        "colab_type": "code",
        "colab": {}
      },
      "source": [
        "import pandas as pd"
      ],
      "execution_count": null,
      "outputs": []
    },
    {
      "cell_type": "code",
      "metadata": {
        "id": "H0ZVwBDPRwce",
        "colab_type": "code",
        "colab": {}
      },
      "source": [
        "housing=pd.read_csv(\"Housing.csv\")"
      ],
      "execution_count": null,
      "outputs": []
    },
    {
      "cell_type": "code",
      "metadata": {
        "id": "kMtQN9uNR258",
        "colab_type": "code",
        "colab": {
          "base_uri": "https://localhost:8080/",
          "height": 218
        },
        "outputId": "4563e17a-73d0-41bf-fd0b-3c9e68a2c593"
      },
      "source": [
        "data=pd.DataFrame(housing)\n",
        "data.head()"
      ],
      "execution_count": 8,
      "outputs": [
        {
          "output_type": "execute_result",
          "data": {
            "text/html": [
              "<div>\n",
              "<style scoped>\n",
              "    .dataframe tbody tr th:only-of-type {\n",
              "        vertical-align: middle;\n",
              "    }\n",
              "\n",
              "    .dataframe tbody tr th {\n",
              "        vertical-align: top;\n",
              "    }\n",
              "\n",
              "    .dataframe thead th {\n",
              "        text-align: right;\n",
              "    }\n",
              "</style>\n",
              "<table border=\"1\" class=\"dataframe\">\n",
              "  <thead>\n",
              "    <tr style=\"text-align: right;\">\n",
              "      <th></th>\n",
              "      <th>price</th>\n",
              "      <th>area</th>\n",
              "      <th>bedrooms</th>\n",
              "      <th>bathrooms</th>\n",
              "      <th>stories</th>\n",
              "      <th>mainroad</th>\n",
              "      <th>guestroom</th>\n",
              "      <th>basement</th>\n",
              "      <th>hotwaterheating</th>\n",
              "      <th>airconditioning</th>\n",
              "      <th>parking</th>\n",
              "      <th>prefarea</th>\n",
              "      <th>furnishingstatus</th>\n",
              "    </tr>\n",
              "  </thead>\n",
              "  <tbody>\n",
              "    <tr>\n",
              "      <th>0</th>\n",
              "      <td>13300000</td>\n",
              "      <td>7420</td>\n",
              "      <td>4</td>\n",
              "      <td>2</td>\n",
              "      <td>3</td>\n",
              "      <td>yes</td>\n",
              "      <td>no</td>\n",
              "      <td>no</td>\n",
              "      <td>no</td>\n",
              "      <td>yes</td>\n",
              "      <td>2</td>\n",
              "      <td>yes</td>\n",
              "      <td>furnished</td>\n",
              "    </tr>\n",
              "    <tr>\n",
              "      <th>1</th>\n",
              "      <td>12250000</td>\n",
              "      <td>8960</td>\n",
              "      <td>4</td>\n",
              "      <td>4</td>\n",
              "      <td>4</td>\n",
              "      <td>yes</td>\n",
              "      <td>no</td>\n",
              "      <td>no</td>\n",
              "      <td>no</td>\n",
              "      <td>yes</td>\n",
              "      <td>3</td>\n",
              "      <td>no</td>\n",
              "      <td>furnished</td>\n",
              "    </tr>\n",
              "    <tr>\n",
              "      <th>2</th>\n",
              "      <td>12250000</td>\n",
              "      <td>9960</td>\n",
              "      <td>3</td>\n",
              "      <td>2</td>\n",
              "      <td>2</td>\n",
              "      <td>yes</td>\n",
              "      <td>no</td>\n",
              "      <td>yes</td>\n",
              "      <td>no</td>\n",
              "      <td>no</td>\n",
              "      <td>2</td>\n",
              "      <td>yes</td>\n",
              "      <td>semi-furnished</td>\n",
              "    </tr>\n",
              "    <tr>\n",
              "      <th>3</th>\n",
              "      <td>12215000</td>\n",
              "      <td>7500</td>\n",
              "      <td>4</td>\n",
              "      <td>2</td>\n",
              "      <td>2</td>\n",
              "      <td>yes</td>\n",
              "      <td>no</td>\n",
              "      <td>yes</td>\n",
              "      <td>no</td>\n",
              "      <td>yes</td>\n",
              "      <td>3</td>\n",
              "      <td>yes</td>\n",
              "      <td>furnished</td>\n",
              "    </tr>\n",
              "    <tr>\n",
              "      <th>4</th>\n",
              "      <td>11410000</td>\n",
              "      <td>7420</td>\n",
              "      <td>4</td>\n",
              "      <td>1</td>\n",
              "      <td>2</td>\n",
              "      <td>yes</td>\n",
              "      <td>yes</td>\n",
              "      <td>yes</td>\n",
              "      <td>no</td>\n",
              "      <td>yes</td>\n",
              "      <td>2</td>\n",
              "      <td>no</td>\n",
              "      <td>furnished</td>\n",
              "    </tr>\n",
              "  </tbody>\n",
              "</table>\n",
              "</div>"
            ],
            "text/plain": [
              "      price  area  bedrooms  ...  parking  prefarea furnishingstatus\n",
              "0  13300000  7420         4  ...        2       yes        furnished\n",
              "1  12250000  8960         4  ...        3        no        furnished\n",
              "2  12250000  9960         3  ...        2       yes   semi-furnished\n",
              "3  12215000  7500         4  ...        3       yes        furnished\n",
              "4  11410000  7420         4  ...        2        no        furnished\n",
              "\n",
              "[5 rows x 13 columns]"
            ]
          },
          "metadata": {
            "tags": []
          },
          "execution_count": 8
        }
      ]
    },
    {
      "cell_type": "code",
      "metadata": {
        "id": "Hys9tH1HR-St",
        "colab_type": "code",
        "colab": {}
      },
      "source": [
        "data[\"mainroad\"]=data[\"mainroad\"].map({\"yes\":1,\"no\":0})\n",
        "data[\"guestroom\"]=data[\"guestroom\"].map({\"yes\":1,\"no\":0})\n",
        "data[\"basement\"]=data[\"basement\"].map({\"yes\":1,\"no\":0})\n",
        "data[\"hotwaterheating\"]=data[\"hotwaterheating\"].map({\"yes\":1,\"no\":0})\n",
        "data[\"airconditioning\"]=data[\"airconditioning\"].map({\"yes\":1,\"no\":0})\n",
        "data[\"prefarea\"]=data[\"prefarea\"].map({\"yes\":1,\"no\":0})"
      ],
      "execution_count": 9,
      "outputs": []
    },
    {
      "cell_type": "code",
      "metadata": {
        "id": "Gw9ApW_4SjPe",
        "colab_type": "code",
        "colab": {}
      },
      "source": [
        "dummies=pd.get_dummies(data[\"furnishingstatus\"])\n",
        "dummies1=pd.get_dummies(data[\"furnishingstatus\"],drop_first=True)"
      ],
      "execution_count": 10,
      "outputs": []
    },
    {
      "cell_type": "code",
      "metadata": {
        "id": "cCpZksAqS1vu",
        "colab_type": "code",
        "colab": {
          "base_uri": "https://localhost:8080/",
          "height": 198
        },
        "outputId": "8ea652de-6f11-41cc-914e-4e9b8f695a9e"
      },
      "source": [
        "dummies1.head()"
      ],
      "execution_count": 11,
      "outputs": [
        {
          "output_type": "execute_result",
          "data": {
            "text/html": [
              "<div>\n",
              "<style scoped>\n",
              "    .dataframe tbody tr th:only-of-type {\n",
              "        vertical-align: middle;\n",
              "    }\n",
              "\n",
              "    .dataframe tbody tr th {\n",
              "        vertical-align: top;\n",
              "    }\n",
              "\n",
              "    .dataframe thead th {\n",
              "        text-align: right;\n",
              "    }\n",
              "</style>\n",
              "<table border=\"1\" class=\"dataframe\">\n",
              "  <thead>\n",
              "    <tr style=\"text-align: right;\">\n",
              "      <th></th>\n",
              "      <th>semi-furnished</th>\n",
              "      <th>unfurnished</th>\n",
              "    </tr>\n",
              "  </thead>\n",
              "  <tbody>\n",
              "    <tr>\n",
              "      <th>0</th>\n",
              "      <td>0</td>\n",
              "      <td>0</td>\n",
              "    </tr>\n",
              "    <tr>\n",
              "      <th>1</th>\n",
              "      <td>0</td>\n",
              "      <td>0</td>\n",
              "    </tr>\n",
              "    <tr>\n",
              "      <th>2</th>\n",
              "      <td>1</td>\n",
              "      <td>0</td>\n",
              "    </tr>\n",
              "    <tr>\n",
              "      <th>3</th>\n",
              "      <td>0</td>\n",
              "      <td>0</td>\n",
              "    </tr>\n",
              "    <tr>\n",
              "      <th>4</th>\n",
              "      <td>0</td>\n",
              "      <td>0</td>\n",
              "    </tr>\n",
              "  </tbody>\n",
              "</table>\n",
              "</div>"
            ],
            "text/plain": [
              "   semi-furnished  unfurnished\n",
              "0               0            0\n",
              "1               0            0\n",
              "2               1            0\n",
              "3               0            0\n",
              "4               0            0"
            ]
          },
          "metadata": {
            "tags": []
          },
          "execution_count": 11
        }
      ]
    },
    {
      "cell_type": "code",
      "metadata": {
        "id": "3TwLRzIrS3q-",
        "colab_type": "code",
        "colab": {}
      },
      "source": [
        "data=pd.concat([data,dummies1],axis=1)\n",
        "data.drop([\"furnishingstatus\"],axis=1,inplace=True)"
      ],
      "execution_count": 13,
      "outputs": []
    },
    {
      "cell_type": "code",
      "metadata": {
        "id": "x82-CB_8TGfb",
        "colab_type": "code",
        "colab": {}
      },
      "source": [
        "data=(data-data.mean())/data.std()"
      ],
      "execution_count": 14,
      "outputs": []
    },
    {
      "cell_type": "code",
      "metadata": {
        "id": "FT4tfmPRTYO_",
        "colab_type": "code",
        "colab": {
          "base_uri": "https://localhost:8080/",
          "height": 241
        },
        "outputId": "1cc8d265-f0f6-4ad9-946c-cdd13e8b745b"
      },
      "source": [
        "data.head()"
      ],
      "execution_count": 15,
      "outputs": [
        {
          "output_type": "execute_result",
          "data": {
            "text/html": [
              "<div>\n",
              "<style scoped>\n",
              "    .dataframe tbody tr th:only-of-type {\n",
              "        vertical-align: middle;\n",
              "    }\n",
              "\n",
              "    .dataframe tbody tr th {\n",
              "        vertical-align: top;\n",
              "    }\n",
              "\n",
              "    .dataframe thead th {\n",
              "        text-align: right;\n",
              "    }\n",
              "</style>\n",
              "<table border=\"1\" class=\"dataframe\">\n",
              "  <thead>\n",
              "    <tr style=\"text-align: right;\">\n",
              "      <th></th>\n",
              "      <th>price</th>\n",
              "      <th>area</th>\n",
              "      <th>bedrooms</th>\n",
              "      <th>bathrooms</th>\n",
              "      <th>stories</th>\n",
              "      <th>mainroad</th>\n",
              "      <th>guestroom</th>\n",
              "      <th>basement</th>\n",
              "      <th>hotwaterheating</th>\n",
              "      <th>airconditioning</th>\n",
              "      <th>parking</th>\n",
              "      <th>prefarea</th>\n",
              "      <th>semi-furnished</th>\n",
              "      <th>unfurnished</th>\n",
              "      <th>semi-furnished</th>\n",
              "      <th>unfurnished</th>\n",
              "    </tr>\n",
              "  </thead>\n",
              "  <tbody>\n",
              "    <tr>\n",
              "      <th>0</th>\n",
              "      <td>4.562174</td>\n",
              "      <td>1.045766</td>\n",
              "      <td>1.402131</td>\n",
              "      <td>1.420507</td>\n",
              "      <td>1.376952</td>\n",
              "      <td>0.405251</td>\n",
              "      <td>-0.464888</td>\n",
              "      <td>-0.733865</td>\n",
              "      <td>-0.219063</td>\n",
              "      <td>1.471267</td>\n",
              "      <td>1.516299</td>\n",
              "      <td>1.803284</td>\n",
              "      <td>-0.844113</td>\n",
              "      <td>-0.69579</td>\n",
              "      <td>-0.844113</td>\n",
              "      <td>-0.69579</td>\n",
              "    </tr>\n",
              "    <tr>\n",
              "      <th>1</th>\n",
              "      <td>4.000809</td>\n",
              "      <td>1.755397</td>\n",
              "      <td>1.402131</td>\n",
              "      <td>5.400847</td>\n",
              "      <td>2.529700</td>\n",
              "      <td>0.405251</td>\n",
              "      <td>-0.464888</td>\n",
              "      <td>-0.733865</td>\n",
              "      <td>-0.219063</td>\n",
              "      <td>1.471267</td>\n",
              "      <td>2.676950</td>\n",
              "      <td>-0.553526</td>\n",
              "      <td>-0.844113</td>\n",
              "      <td>-0.69579</td>\n",
              "      <td>-0.844113</td>\n",
              "      <td>-0.69579</td>\n",
              "    </tr>\n",
              "    <tr>\n",
              "      <th>2</th>\n",
              "      <td>4.000809</td>\n",
              "      <td>2.216196</td>\n",
              "      <td>0.047235</td>\n",
              "      <td>1.420507</td>\n",
              "      <td>0.224204</td>\n",
              "      <td>0.405251</td>\n",
              "      <td>-0.464888</td>\n",
              "      <td>1.360148</td>\n",
              "      <td>-0.219063</td>\n",
              "      <td>-0.678439</td>\n",
              "      <td>1.516299</td>\n",
              "      <td>1.803284</td>\n",
              "      <td>1.182502</td>\n",
              "      <td>-0.69579</td>\n",
              "      <td>1.182502</td>\n",
              "      <td>-0.69579</td>\n",
              "    </tr>\n",
              "    <tr>\n",
              "      <th>3</th>\n",
              "      <td>3.982096</td>\n",
              "      <td>1.082630</td>\n",
              "      <td>1.402131</td>\n",
              "      <td>1.420507</td>\n",
              "      <td>0.224204</td>\n",
              "      <td>0.405251</td>\n",
              "      <td>-0.464888</td>\n",
              "      <td>1.360148</td>\n",
              "      <td>-0.219063</td>\n",
              "      <td>1.471267</td>\n",
              "      <td>2.676950</td>\n",
              "      <td>1.803284</td>\n",
              "      <td>-0.844113</td>\n",
              "      <td>-0.69579</td>\n",
              "      <td>-0.844113</td>\n",
              "      <td>-0.69579</td>\n",
              "    </tr>\n",
              "    <tr>\n",
              "      <th>4</th>\n",
              "      <td>3.551716</td>\n",
              "      <td>1.045766</td>\n",
              "      <td>1.402131</td>\n",
              "      <td>-0.569663</td>\n",
              "      <td>0.224204</td>\n",
              "      <td>0.405251</td>\n",
              "      <td>2.147110</td>\n",
              "      <td>1.360148</td>\n",
              "      <td>-0.219063</td>\n",
              "      <td>1.471267</td>\n",
              "      <td>1.516299</td>\n",
              "      <td>-0.553526</td>\n",
              "      <td>-0.844113</td>\n",
              "      <td>-0.69579</td>\n",
              "      <td>-0.844113</td>\n",
              "      <td>-0.69579</td>\n",
              "    </tr>\n",
              "  </tbody>\n",
              "</table>\n",
              "</div>"
            ],
            "text/plain": [
              "      price      area  bedrooms  ...  unfurnished  semi-furnished  unfurnished\n",
              "0  4.562174  1.045766  1.402131  ...     -0.69579       -0.844113     -0.69579\n",
              "1  4.000809  1.755397  1.402131  ...     -0.69579       -0.844113     -0.69579\n",
              "2  4.000809  2.216196  0.047235  ...     -0.69579        1.182502     -0.69579\n",
              "3  3.982096  1.082630  1.402131  ...     -0.69579       -0.844113     -0.69579\n",
              "4  3.551716  1.045766  1.402131  ...     -0.69579       -0.844113     -0.69579\n",
              "\n",
              "[5 rows x 16 columns]"
            ]
          },
          "metadata": {
            "tags": []
          },
          "execution_count": 15
        }
      ]
    },
    {
      "cell_type": "code",
      "metadata": {
        "id": "KFcRzEuvTlj0",
        "colab_type": "code",
        "colab": {
          "base_uri": "https://localhost:8080/",
          "height": 71
        },
        "outputId": "627e79bb-3e64-404b-f2f5-7bb76caa3441"
      },
      "source": [
        "import seaborn as sns"
      ],
      "execution_count": 18,
      "outputs": [
        {
          "output_type": "stream",
          "text": [
            "/usr/local/lib/python3.6/dist-packages/statsmodels/tools/_testing.py:19: FutureWarning: pandas.util.testing is deprecated. Use the functions in the public API at pandas.testing instead.\n",
            "  import pandas.util.testing as tm\n"
          ],
          "name": "stderr"
        }
      ]
    },
    {
      "cell_type": "code",
      "metadata": {
        "id": "Fpfug74_Ua9M",
        "colab_type": "code",
        "colab": {}
      },
      "source": [
        "import matplotlib.pyplot as plt\n"
      ],
      "execution_count": 25,
      "outputs": []
    },
    {
      "cell_type": "code",
      "metadata": {
        "id": "c1jM6rnYTp7R",
        "colab_type": "code",
        "colab": {
          "base_uri": "https://localhost:8080/",
          "height": 265
        },
        "outputId": "cfeede6b-4c5a-4c2c-8b0d-105cb49dd036"
      },
      "source": [
        "plt.scatter(data[\"area\"],data[\"price\"],color=\"green\")\n",
        "plt.show()"
      ],
      "execution_count": 30,
      "outputs": [
        {
          "output_type": "display_data",
          "data": {
            "image/png": "[encoded data removed]",
            "text/plain": [
              "<Figure size 432x288 with 1 Axes>"
            ]
          },
          "metadata": {
            "tags": [],
            "needs_background": "light"
          }
        }
      ]
    },
    {
      "cell_type": "code",
      "metadata": {
        "id": "iBrc3Vk4VgIA",
        "colab_type": "code",
        "colab": {}
      },
      "source": [
        "import numpy as np"
      ],
      "execution_count": 33,
      "outputs": []
    },
    {
      "cell_type": "code",
      "metadata": {
        "id": "NtG7i7cUT58s",
        "colab_type": "code",
        "colab": {}
      },
      "source": [
        "x=np.array(housing[\"area\"])\n",
        "y=np.array(housing[\"price\"])"
      ],
      "execution_count": 34,
      "outputs": []
    },
    {
      "cell_type": "code",
      "metadata": {
        "id": "V-EbEmbSV8Qy",
        "colab_type": "code",
        "colab": {}
      },
      "source": [
        "def gradient(X,y,m_current=0,c_current=0,iters=1000,learning_rate=0.01):\n",
        "  N=float(len(y))\n",
        "  gd_df=pd.DataFrame(columns=['m_current','c_current','cost'])\n",
        "  for i in range(iters):\n",
        "    y_current=m_current * X +c_current\n",
        "    loss=sum([data**2 for data in (y-y_current)])/N\n",
        "    m_gradient=-(2/N)*sum(X*(y-y_current))\n",
        "    c_gradient=-(2/N)*sum(y-y_current)\n",
        "    m_current=m_current- (learning_rate*m_gradient)\n",
        "    c_current=c_current-(learning_rate*c_gradient)\n",
        "    gd_df.loc[i]=[m_current,c_current,loss]\n",
        "  return gd_df"
      ],
      "execution_count": 35,
      "outputs": []
    },
    {
      "cell_type": "code",
      "metadata": {
        "id": "YONyFMHnVBqZ",
        "colab_type": "code",
        "colab": {
          "base_uri": "https://localhost:8080/",
          "height": 521
        },
        "outputId": "53abdd0e-6443-4f77-d94a-a88c47d82d21"
      },
      "source": [
        "gradient(x,y)"
      ],
      "execution_count": 36,
      "outputs": [
        {
          "output_type": "stream",
          "text": [
            "/usr/local/lib/python3.6/dist-packages/ipykernel_launcher.py:6: RuntimeWarning: overflow encountered in double_scalars\n",
            "  \n",
            "/usr/local/lib/python3.6/dist-packages/ipykernel_launcher.py:7: RuntimeWarning: overflow encountered in double_scalars\n",
            "  import sys\n",
            "/usr/local/lib/python3.6/dist-packages/ipykernel_launcher.py:9: RuntimeWarning: invalid value encountered in double_scalars\n",
            "  if __name__ == '__main__':\n"
          ],
          "name": "stderr"
        },
        {
          "output_type": "execute_result",
          "data": {
            "text/html": [
              "<div>\n",
              "<style scoped>\n",
              "    .dataframe tbody tr th:only-of-type {\n",
              "        vertical-align: middle;\n",
              "    }\n",
              "\n",
              "    .dataframe tbody tr th {\n",
              "        vertical-align: top;\n",
              "    }\n",
              "\n",
              "    .dataframe thead th {\n",
              "        text-align: right;\n",
              "    }\n",
              "</style>\n",
              "<table border=\"1\" class=\"dataframe\">\n",
              "  <thead>\n",
              "    <tr style=\"text-align: right;\">\n",
              "      <th></th>\n",
              "      <th>m_current</th>\n",
              "      <th>c_current</th>\n",
              "      <th>cost</th>\n",
              "    </tr>\n",
              "  </thead>\n",
              "  <tbody>\n",
              "    <tr>\n",
              "      <th>0</th>\n",
              "      <td>5.344584e+08</td>\n",
              "      <td>9.533458e+04</td>\n",
              "      <td>2.621383e+13</td>\n",
              "    </tr>\n",
              "    <tr>\n",
              "      <th>1</th>\n",
              "      <td>-3.338104e+14</td>\n",
              "      <td>-5.505481e+10</td>\n",
              "      <td>8.920389e+24</td>\n",
              "    </tr>\n",
              "    <tr>\n",
              "      <th>2</th>\n",
              "      <td>2.084906e+20</td>\n",
              "      <td>3.438603e+16</td>\n",
              "      <td>3.479822e+36</td>\n",
              "    </tr>\n",
              "    <tr>\n",
              "      <th>3</th>\n",
              "      <td>-1.302186e+26</td>\n",
              "      <td>-2.147676e+22</td>\n",
              "      <td>1.357470e+48</td>\n",
              "    </tr>\n",
              "    <tr>\n",
              "      <th>4</th>\n",
              "      <td>8.133169e+31</td>\n",
              "      <td>1.341391e+28</td>\n",
              "      <td>5.295459e+59</td>\n",
              "    </tr>\n",
              "    <tr>\n",
              "      <th>...</th>\n",
              "      <td>...</td>\n",
              "      <td>...</td>\n",
              "      <td>...</td>\n",
              "    </tr>\n",
              "    <tr>\n",
              "      <th>995</th>\n",
              "      <td>NaN</td>\n",
              "      <td>NaN</td>\n",
              "      <td>NaN</td>\n",
              "    </tr>\n",
              "    <tr>\n",
              "      <th>996</th>\n",
              "      <td>NaN</td>\n",
              "      <td>NaN</td>\n",
              "      <td>NaN</td>\n",
              "    </tr>\n",
              "    <tr>\n",
              "      <th>997</th>\n",
              "      <td>NaN</td>\n",
              "      <td>NaN</td>\n",
              "      <td>NaN</td>\n",
              "    </tr>\n",
              "    <tr>\n",
              "      <th>998</th>\n",
              "      <td>NaN</td>\n",
              "      <td>NaN</td>\n",
              "      <td>NaN</td>\n",
              "    </tr>\n",
              "    <tr>\n",
              "      <th>999</th>\n",
              "      <td>NaN</td>\n",
              "      <td>NaN</td>\n",
              "      <td>NaN</td>\n",
              "    </tr>\n",
              "  </tbody>\n",
              "</table>\n",
              "<p>1000 rows × 3 columns</p>\n",
              "</div>"
            ],
            "text/plain": [
              "        m_current     c_current          cost\n",
              "0    5.344584e+08  9.533458e+04  2.621383e+13\n",
              "1   -3.338104e+14 -5.505481e+10  8.920389e+24\n",
              "2    2.084906e+20  3.438603e+16  3.479822e+36\n",
              "3   -1.302186e+26 -2.147676e+22  1.357470e+48\n",
              "4    8.133169e+31  1.341391e+28  5.295459e+59\n",
              "..            ...           ...           ...\n",
              "995           NaN           NaN           NaN\n",
              "996           NaN           NaN           NaN\n",
              "997           NaN           NaN           NaN\n",
              "998           NaN           NaN           NaN\n",
              "999           NaN           NaN           NaN\n",
              "\n",
              "[1000 rows x 3 columns]"
            ]
          },
          "metadata": {
            "tags": []
          },
          "execution_count": 36
        }
      ]
    },
    {
      "cell_type": "code",
      "metadata": {
        "id": "Algo7mSVY7EK",
        "colab_type": "code",
        "colab": {
          "base_uri": "https://localhost:8080/",
          "height": 323
        },
        "outputId": "99ce236b-335e-45bb-cce1-b889f1d8ad8a"
      },
      "source": [
        "a=gradient(x,y)"
      ],
      "execution_count": 38,
      "outputs": [
        {
          "output_type": "stream",
          "text": [
            "/usr/local/lib/python3.6/dist-packages/ipykernel_launcher.py:6: RuntimeWarning: overflow encountered in double_scalars\n",
            "  \n",
            "/usr/local/lib/python3.6/dist-packages/ipykernel_launcher.py:7: RuntimeWarning: overflow encountered in double_scalars\n",
            "  import sys\n",
            "/usr/local/lib/python3.6/dist-packages/ipykernel_launcher.py:9: RuntimeWarning: invalid value encountered in double_scalars\n",
            "  if __name__ == '__main__':\n"
          ],
          "name": "stderr"
        },
        {
          "output_type": "execute_result",
          "data": {
            "text/plain": [
              "0      2.621383e+13\n",
              "1      8.920389e+24\n",
              "2      3.479822e+36\n",
              "3      1.357470e+48\n",
              "4      5.295459e+59\n",
              "           ...     \n",
              "995             NaN\n",
              "996             NaN\n",
              "997             NaN\n",
              "998             NaN\n",
              "999             NaN\n",
              "Name: cost, Length: 1000, dtype: float64"
            ]
          },
          "metadata": {
            "tags": []
          },
          "execution_count": 38
        }
      ]
    },
    {
      "cell_type": "code",
      "metadata": {
        "id": "BUotJSj_X5rQ",
        "colab_type": "code",
        "colab": {}
      },
      "source": [
        ""
      ],
      "execution_count": 42,
      "outputs": []
    },
    {
      "cell_type": "code",
      "metadata": {
        "id": "wM4SwbBYYZ5T",
        "colab_type": "code",
        "colab": {}
      },
      "source": [
        ""
      ],
      "execution_count": null,
      "outputs": []
    }
  ]
}